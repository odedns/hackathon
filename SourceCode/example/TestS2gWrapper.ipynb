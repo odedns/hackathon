{
 "cells": [
  {
   "cell_type": "code",
   "execution_count": 1,
   "id": "c617ae87",
   "metadata": {},
   "outputs": [],
   "source": [
    "import matplotlib.pyplot as plt\n",
    "\n",
    "from series2graph import *\n",
    "import pandas as pd\n",
    "import sys  \n",
    "sys.path.insert(0, '../src/hackathon')\n",
    "\n",
    "from s2g_wrapper import *"
   ]
  },
  {
   "cell_type": "code",
   "execution_count": 4,
   "id": "0f99b784",
   "metadata": {},
   "outputs": [],
   "source": [
    "index = 4\n",
    "ucols = []\n",
    "ucols.append(index)\n",
    "df = pd.read_csv(\"../DATA/8033.csv\",header=None,usecols=ucols)\n",
    "pattern_length = 75\n",
    "query_length = 100\n",
    "\n",
    "s2gw = S2gWrapper(df,query_length,pattern_length)\n",
    "scores = s2gw.calc(4)"
   ]
  },
  {
   "cell_type": "code",
   "execution_count": 3,
   "id": "42b44593",
   "metadata": {},
   "outputs": [
    {
     "data": {
      "text/plain": [
       "array([0.49756004, 0.49756004, 0.49756004, ..., 0.12311833, 0.12311833,\n",
       "       0.12311833])"
      ]
     },
     "execution_count": 3,
     "metadata": {},
     "output_type": "execute_result"
    }
   ],
   "source": [
    "scores"
   ]
  },
  {
   "cell_type": "code",
   "execution_count": 7,
   "id": "52d63f4b",
   "metadata": {},
   "outputs": [
    {
     "data": {
      "text/plain": [
       "numpy.ndarray"
      ]
     },
     "execution_count": 7,
     "metadata": {},
     "output_type": "execute_result"
    }
   ],
   "source": [
    "type(df[4].values)"
   ]
  },
  {
   "cell_type": "code",
   "execution_count": null,
   "id": "aeee0a18",
   "metadata": {},
   "outputs": [],
   "source": []
  }
 ],
 "metadata": {
  "kernelspec": {
   "display_name": "Python 3",
   "language": "python",
   "name": "python3"
  },
  "language_info": {
   "codemirror_mode": {
    "name": "ipython",
    "version": 3
   },
   "file_extension": ".py",
   "mimetype": "text/x-python",
   "name": "python",
   "nbconvert_exporter": "python",
   "pygments_lexer": "ipython3",
   "version": "3.8.5"
  }
 },
 "nbformat": 4,
 "nbformat_minor": 5
}
